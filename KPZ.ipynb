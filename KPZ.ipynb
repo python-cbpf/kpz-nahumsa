{
 "cells": [
  {
   "cell_type": "code",
   "execution_count": null,
   "metadata": {},
   "outputs": [],
   "source": [
    "%matplotlib inline\n",
    "import numpy as np\n",
    "import matplotlib.pyplot as plt\n",
    "import seaborn as sns\n",
    "plt.rcParams.update({'font.size': 20})"
   ]
  },
  {
   "cell_type": "markdown",
   "metadata": {},
   "source": [
    "# Numerical solution to the KPZ Equation\n",
    "\n",
    "We will use the standard mapping between the height in the KPZ equation with the free energy of a directed polymer at high temperature embedded in a 1+1 random potential.\n",
    "\n",
    "We will consider a polymer with size $L = 2n$ bonds in a 1+1 random potential drawn from a gaussian distribution $\\mathcal{N}(0,1)$. We need to consider all polymers that starts at (0,0) and end at (n,n), the polymer is only allowed to grow onto positive neighboring sites, so the \"diagonal\" d = x + y will be increased by one.\n",
    "\n",
    "A polymer visiting a set $P$ of sites has an energy:\n",
    "\\begin{equation}\n",
    "E_V (P) = \\sum_{(x,y) \\in P} \\ V[x,y]\n",
    "\\end{equation}\n",
    "\n",
    "\n",
    "The boltzmann weight is given by:\n",
    "\\begin{equation}\n",
    "w_V (P) = e^{\\frac{-E_V (P)}{T}}\n",
    "\\end{equation}\n",
    "\n",
    "\n",
    "The partition function Z(V) is given by:\n",
    "\\begin{equation}\n",
    "Z(V) = \\sum_P w_V (P)\n",
    "\\end{equation}\n",
    "\n",
    "Since the polymer can only increas on the \"diagonal\", we have a recurssion relation that will be used on our class for the partition function:\n",
    "\\begin{equation}\n",
    "Z[x,y] = (Z[x-1,y] + Z[x,y-1]) e^{\\frac{-V[x,y]}{T}}\n",
    "\\end{equation}\n",
    "\n",
    "Where Z[x,y] is the partition function starting at (0,0) and ending on (x,y). So our final partition function will be given by:\n",
    "\\begin{equation}\n",
    "Z(V) = Z[n,n]\n",
    "\\end{equation}\n",
    "\n"
   ]
  },
  {
   "cell_type": "code",
   "execution_count": 2,
   "metadata": {},
   "outputs": [],
   "source": [
    "class KPZ:\n",
    "    def __init__(self,n,T):\n",
    "        \"\"\"\n",
    "        Initialization of our class. \n",
    "        Parameters:\n",
    "        - n : Size of the polymer.\n",
    "        - T : Temperature.\n",
    "        \"\"\"\n",
    "        \n",
    "        self.n = n + 1\n",
    "        self.matrix = np.random.normal(size=(self.n,self.n))\n",
    "        self.Z_matrix = np.zeros((self.n,self.n))\n",
    "        self.T = T\n",
    "    \n",
    "    def Z(self,x,y):\n",
    "        \"\"\"\n",
    "        Return the partition function for a polymer at point (x,y) at a heat bath T.\n",
    "        \"\"\"\n",
    "        \n",
    "        if x == 0 and y == 0:\n",
    "            self.Z_matrix[x,y] = np.exp(-self.matrix[x,y])\n",
    "        elif x == 0:\n",
    "            self.Z_matrix[x,y] = (self.Z_matrix[x,y-1])*np.exp(-self.matrix[x,y]) \n",
    "        elif y == 0:\n",
    "            self.Z_matrix[x,y] = (self.Z_matrix[x-1,y])*np.exp(-self.matrix[x,y])\n",
    "        else:\n",
    "            self.Z_matrix[x,y] = (self.Z_matrix[x-1,y] + self.Z_matrix[x,y-1])*np.exp(-self.matrix[x,y])\n",
    "    \n",
    "    def run(self):\n",
    "        \"\"\"\n",
    "        Run the simulation and return the partition function Z(n,n).\n",
    "        \"\"\"\n",
    "        for i in range(self.n):\n",
    "            for j in range(self.n):\n",
    "                self.Z(i,j)\n",
    "        return self.Z_matrix[self.n-1,self.n-1]"
   ]
  },
  {
   "cell_type": "markdown",
   "metadata": {},
   "source": [
    "### Simulation\n",
    "Using the mapping between free energy an the height on the KPZ equation (H), we have:\n",
    "\n",
    "\\begin{equation}\n",
    "H = log\\left(\\frac{Z(L,L)}{\\bar{Z}}\\right)\n",
    "\\end{equation}\n",
    "\n",
    "\n",
    "\\begin{equation}\n",
    "t = \\frac{2N}{T^4}\n",
    "\\end{equation}\n",
    "\n",
    "So we can calculate $Z(V)$ doing various simulations for our disordered potential and then calculate the average for all samples $\\bar{Z}$ and $P(H,t)$ is the histogram of values of H.\n",
    "\n",
    "In this simulation we will have a fixed time ($t$) given by the above equation and verify the distribution $P(H,t)$."
   ]
  },
  {
   "cell_type": "code",
   "execution_count": 3,
   "metadata": {},
   "outputs": [],
   "source": [
    "def direct_sampling(N,temperature,samples= 1000):\n",
    "    H_ = np.zeros(samples)\n",
    "    for i in range(samples):\n",
    "        Sol = KPZ(N,T = temperature)\n",
    "        H_[i] = Sol.run()\n",
    "    t = 2*N/float(temperature**4.)\n",
    "    return t, H_"
   ]
  },
  {
   "cell_type": "code",
   "execution_count": 4,
   "metadata": {},
   "outputs": [],
   "source": [
    "t, H = direct_sampling(N= 64,temperature= 6.72)"
   ]
  },
  {
   "cell_type": "code",
   "execution_count": 5,
   "metadata": {},
   "outputs": [],
   "source": [
    "H__ = H/np.mean(H)"
   ]
  },
  {
   "cell_type": "code",
   "execution_count": 6,
   "metadata": {},
   "outputs": [],
   "source": [
    "aux = np.log(H__)"
   ]
  },
  {
   "cell_type": "code",
   "execution_count": 14,
   "metadata": {},
   "outputs": [
    {
     "data": {
      "image/png": "[encoded data removed]",
      "text/plain": [
       "<Figure size 432x288 with 1 Axes>"
      ]
     },
     "metadata": {
      "needs_background": "light"
     },
     "output_type": "display_data"
    }
   ],
   "source": [
    "plt.hist(aux)\n",
    "plt.show()"
   ]
  },
  {
   "cell_type": "code",
   "execution_count": null,
   "metadata": {},
   "outputs": [],
   "source": []
  }
 ],
 "metadata": {
  "kernelspec": {
   "display_name": "Python 3",
   "language": "python",
   "name": "python3"
  },
  "language_info": {
   "codemirror_mode": {
    "name": "ipython",
    "version": 3
   },
   "file_extension": ".py",
   "mimetype": "text/x-python",
   "name": "python",
   "nbconvert_exporter": "python",
   "pygments_lexer": "ipython3",
   "version": "3.6.8"
  }
 },
 "nbformat": 4,
 "nbformat_minor": 2
}
